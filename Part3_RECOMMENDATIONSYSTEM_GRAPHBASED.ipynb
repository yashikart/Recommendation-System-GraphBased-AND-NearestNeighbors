{
  "cells": [
    {
      "cell_type": "code",
      "source": [
        "import pandas as pd\n",
        "import numpy as np\n",
        "import networkx as nx\n",
        "from gensim.models import Word2Vec\n",
        "from sklearn.preprocessing import LabelEncoder\n",
        "from sklearn.metrics.pairwise import cosine_similarity\n",
        "\n",
        "# Load Data\n",
        "data = pd.read_csv(\"sample30.csv\")\n",
        "\n",
        "# Encode Users\n",
        "user_encoder = LabelEncoder()\n",
        "data['user_id'] = user_encoder.fit_transform(data['reviews_username'])\n",
        "\n",
        "# Encode Products\n",
        "product_encoder = LabelEncoder()\n",
        "data['product_id'] = product_encoder.fit_transform(data['name'])\n",
        "\n",
        "# Prepare Category Data for Word2Vec\n",
        "category_sentences = data['categories'].apply(lambda x: x.split()).tolist()\n",
        "word2vec_model = Word2Vec(sentences=category_sentences, vector_size=50, window=5, min_count=1, workers=4)\n",
        "\n",
        "# Compute Category Embeddings\n",
        "def get_category_embedding(category):\n",
        "    words = category.split()\n",
        "    vectors = [word2vec_model.wv[word] for word in words if word in word2vec_model.wv]\n",
        "    return np.mean(vectors, axis=0) if vectors else np.zeros(50)\n",
        "\n",
        "data['category_embedding'] = data['categories'].apply(get_category_embedding)\n",
        "category_embeddings_matrix = np.vstack(data['category_embedding'].values)\n",
        "\n",
        "# Compute Similarity Based on Word2Vec Embeddings\n",
        "category_similarity = cosine_similarity(category_embeddings_matrix)\n",
        "category_similarity_df = pd.DataFrame(category_similarity, index=data['product_id'], columns=data['product_id'])\n",
        "\n",
        "# Create Graph\n",
        "graph = nx.Graph()\n",
        "for i in range(len(data)):\n",
        "    for j in range(i + 1, len(data)):\n",
        "        similarity = category_similarity[i, j]\n",
        "        if similarity > 0.5:  # Threshold to create meaningful edges\n",
        "            graph.add_edge(data['product_id'][i], data['product_id'][j], weight=similarity)\n",
        "\n",
        "# Recommendation Function using Graph-Based Approach\n",
        "def recommend_products(username, num_recommendations=3):\n",
        "    if username not in user_encoder.classes_:\n",
        "        print(\"User not found!\")\n",
        "        return []\n",
        "\n",
        "    user_id = user_encoder.transform([username])[0]\n",
        "    user_products = data[data['user_id'] == user_id]['product_id'].unique()\n",
        "\n",
        "    recommended_items = set()\n",
        "    for product in user_products:\n",
        "        if product in graph:\n",
        "            neighbors = sorted(graph[product].items(), key=lambda x: x[1]['weight'], reverse=True)\n",
        "            similar_products = [p[0] for p in neighbors[:num_recommendations]]\n",
        "            recommended_items.update(similar_products)\n",
        "\n",
        "    return product_encoder.inverse_transform(list(recommended_items))\n",
        "\n",
        "# Example Usage\n",
        "recommended_items = recommend_products(\"liviasuexo\")\n",
        "print(\"Recommended Products:\", recommended_items)"
      ],
      "metadata": {
        "colab": {
          "base_uri": "https://localhost:8080/"
        },
        "id": "-PsQi21BFISB",
        "outputId": "f7febb9e-f8ff-4cab-c30f-4bee59e09008"
      },
      "execution_count": null,
      "outputs": [
        {
          "output_type": "stream",
          "name": "stdout",
          "text": [
            "Recommended Products: ['Creme Of Nature Intensive Conditioning Treatment, 32'\n",
            " \"L'or233al Paris Elvive Extraordinary Clay Rebalancing Conditioner - 12.6 Fl Oz\"\n",
            " \"L'oreal Paris Advanced Hairstyle Boost It High Lift Creation Spray\"]\n"
          ]
        }
      ]
    },
    {
      "cell_type": "code",
      "source": [
        "recommended_items = recommend_products(\"liviasuexo\")\n",
        "print(\"Recommended Products:\", recommended_items)"
      ],
      "metadata": {
        "colab": {
          "base_uri": "https://localhost:8080/"
        },
        "id": "S6mQ9nnNYrF3",
        "outputId": "e9062923-29f6-4e29-e66e-0ada00604f65"
      },
      "execution_count": null,
      "outputs": [
        {
          "output_type": "stream",
          "name": "stdout",
          "text": [
            "Recommended Products: ['Creme Of Nature Intensive Conditioning Treatment, 32'\n",
            " \"L'or233al Paris Elvive Extraordinary Clay Rebalancing Conditioner - 12.6 Fl Oz\"\n",
            " \"L'oreal Paris Advanced Hairstyle Boost It High Lift Creation Spray\"]\n"
          ]
        }
      ]
    },
    {
      "cell_type": "code",
      "source": [
        "recommended_items = recommend_products(\"charlie\")\n",
        "print(\"Recommended Products:\", recommended_items)"
      ],
      "metadata": {
        "colab": {
          "base_uri": "https://localhost:8080/"
        },
        "id": "kTJRA2u1Yzjq",
        "outputId": "df9e568f-23cb-41e6-e69c-eeb69549474f"
      },
      "execution_count": null,
      "outputs": [
        {
          "output_type": "stream",
          "name": "stdout",
          "text": [
            "Recommended Products: ['Queen Helene Cocoa Butter Solid'\n",
            " \"Stargate (ws) (ultimate Edition) (director's Cut) (dvdvideo)\"\n",
            " 'Red (special Edition) (dvdvideo)' 'Alex Cross (dvdvideo)'\n",
            " 'Creme Of Nature Intensive Conditioning Treatment, 32'\n",
            " 'Romantic Drama: Greatest Classic Films Collection 2 Discs'\n",
            " 'Yes To Grapefruit Rejuvenating Body Wash'\n",
            " 'The Resident Evil Collection 5 Discs (blu-Ray)'\n",
            " 'Aussie Aussome Volume Shampoo, 13.5 Oz' \"Cars Toon: Mater's Tall Tales\"\n",
            " 'Caress Moisturizing Body Bar Natural Silk, 4.75oz'\n",
            " 'Just For Men Touch Of Gray Gray Hair Treatment, Black T-55'\n",
            " 'Godzilla 3d Includes Digital Copy Ultraviolet 3d/2d Blu-Ray/dvd'\n",
            " 'Equals (blu-Ray)' 'Mike Dave Need Wedding Dates (dvd + Digital)'\n",
            " 'Planes: Fire Rescue (2 Discs) (includes Digital Copy) (blu-Ray/dvd)'\n",
            " 'My Big Fat Greek Wedding 2 (blu-Ray + Dvd + Digital)']\n"
          ]
        }
      ]
    },
    {
      "cell_type": "code",
      "source": [
        "import pickle\n",
        "\n",
        "# Save the graph\n",
        "with open(\"product_graph.pkl\", \"wb\") as f:\n",
        "    pickle.dump(graph, f)"
      ],
      "metadata": {
        "id": "auX-d7IscIj-"
      },
      "execution_count": null,
      "outputs": []
    },
    {
      "cell_type": "code",
      "source": [
        "import pickle\n",
        "import networkx as nx\n",
        "\n",
        "# Load the graph\n",
        "with open(\"product_graph.pkl\", \"rb\") as f:\n",
        "    loaded_graph = pickle.load(f)\n",
        "\n",
        "print(\"Graph Loaded Successfully!\")\n",
        "print(\"Number of Nodes:\", len(loaded_graph.nodes()))\n",
        "print(\"Number of Edges:\", len(loaded_graph.edges()))"
      ],
      "metadata": {
        "colab": {
          "base_uri": "https://localhost:8080/"
        },
        "id": "h6Vo5IgHcNC8",
        "outputId": "d889ced5-77ca-4140-9ae0-9e69c899d749"
      },
      "execution_count": null,
      "outputs": [
        {
          "output_type": "stream",
          "name": "stdout",
          "text": [
            "Graph Loaded Successfully!\n",
            "Number of Nodes: 271\n",
            "Number of Edges: 12525\n"
          ]
        }
      ]
    },
    {
      "cell_type": "code",
      "source": [],
      "metadata": {
        "id": "eA9vcpuvcNfN"
      },
      "execution_count": null,
      "outputs": []
    },
    {
      "cell_type": "code",
      "source": [
        "data['reviews_username'].value_counts()[:30]"
      ],
      "metadata": {
        "colab": {
          "base_uri": "https://localhost:8080/",
          "height": 1000
        },
        "id": "K-rYlKjTY-Q4",
        "outputId": "78e8c2aa-38ee-4e12-fa8c-78bedfccf793"
      },
      "execution_count": null,
      "outputs": [
        {
          "output_type": "execute_result",
          "data": {
            "text/plain": [
              "reviews_username\n",
              "mike                 41\n",
              "byamazon customer    41\n",
              "chris                32\n",
              "lisa                 16\n",
              "sandy                15\n",
              "tony                 15\n",
              "rick                 15\n",
              "dave                 14\n",
              "john                 14\n",
              "jojo                 13\n",
              "james                13\n",
              "matt                 12\n",
              "linda                12\n",
              "movielover           12\n",
              "scott                11\n",
              "donna                11\n",
              "cindy                11\n",
              "mark                 11\n",
              "thomas               11\n",
              "jenn                 11\n",
              "laura                11\n",
              "mary                 10\n",
              "charlie              10\n",
              "brian                10\n",
              "steve                10\n",
              "alex                 10\n",
              "michael               9\n",
              "david                 9\n",
              "jeff                  9\n",
              "joey                  9\n",
              "Name: count, dtype: int64"
            ],
            "text/html": [
              "<div>\n",
              "<style scoped>\n",
              "    .dataframe tbody tr th:only-of-type {\n",
              "        vertical-align: middle;\n",
              "    }\n",
              "\n",
              "    .dataframe tbody tr th {\n",
              "        vertical-align: top;\n",
              "    }\n",
              "\n",
              "    .dataframe thead th {\n",
              "        text-align: right;\n",
              "    }\n",
              "</style>\n",
              "<table border=\"1\" class=\"dataframe\">\n",
              "  <thead>\n",
              "    <tr style=\"text-align: right;\">\n",
              "      <th></th>\n",
              "      <th>count</th>\n",
              "    </tr>\n",
              "    <tr>\n",
              "      <th>reviews_username</th>\n",
              "      <th></th>\n",
              "    </tr>\n",
              "  </thead>\n",
              "  <tbody>\n",
              "    <tr>\n",
              "      <th>mike</th>\n",
              "      <td>41</td>\n",
              "    </tr>\n",
              "    <tr>\n",
              "      <th>byamazon customer</th>\n",
              "      <td>41</td>\n",
              "    </tr>\n",
              "    <tr>\n",
              "      <th>chris</th>\n",
              "      <td>32</td>\n",
              "    </tr>\n",
              "    <tr>\n",
              "      <th>lisa</th>\n",
              "      <td>16</td>\n",
              "    </tr>\n",
              "    <tr>\n",
              "      <th>sandy</th>\n",
              "      <td>15</td>\n",
              "    </tr>\n",
              "    <tr>\n",
              "      <th>tony</th>\n",
              "      <td>15</td>\n",
              "    </tr>\n",
              "    <tr>\n",
              "      <th>rick</th>\n",
              "      <td>15</td>\n",
              "    </tr>\n",
              "    <tr>\n",
              "      <th>dave</th>\n",
              "      <td>14</td>\n",
              "    </tr>\n",
              "    <tr>\n",
              "      <th>john</th>\n",
              "      <td>14</td>\n",
              "    </tr>\n",
              "    <tr>\n",
              "      <th>jojo</th>\n",
              "      <td>13</td>\n",
              "    </tr>\n",
              "    <tr>\n",
              "      <th>james</th>\n",
              "      <td>13</td>\n",
              "    </tr>\n",
              "    <tr>\n",
              "      <th>matt</th>\n",
              "      <td>12</td>\n",
              "    </tr>\n",
              "    <tr>\n",
              "      <th>linda</th>\n",
              "      <td>12</td>\n",
              "    </tr>\n",
              "    <tr>\n",
              "      <th>movielover</th>\n",
              "      <td>12</td>\n",
              "    </tr>\n",
              "    <tr>\n",
              "      <th>scott</th>\n",
              "      <td>11</td>\n",
              "    </tr>\n",
              "    <tr>\n",
              "      <th>donna</th>\n",
              "      <td>11</td>\n",
              "    </tr>\n",
              "    <tr>\n",
              "      <th>cindy</th>\n",
              "      <td>11</td>\n",
              "    </tr>\n",
              "    <tr>\n",
              "      <th>mark</th>\n",
              "      <td>11</td>\n",
              "    </tr>\n",
              "    <tr>\n",
              "      <th>thomas</th>\n",
              "      <td>11</td>\n",
              "    </tr>\n",
              "    <tr>\n",
              "      <th>jenn</th>\n",
              "      <td>11</td>\n",
              "    </tr>\n",
              "    <tr>\n",
              "      <th>laura</th>\n",
              "      <td>11</td>\n",
              "    </tr>\n",
              "    <tr>\n",
              "      <th>mary</th>\n",
              "      <td>10</td>\n",
              "    </tr>\n",
              "    <tr>\n",
              "      <th>charlie</th>\n",
              "      <td>10</td>\n",
              "    </tr>\n",
              "    <tr>\n",
              "      <th>brian</th>\n",
              "      <td>10</td>\n",
              "    </tr>\n",
              "    <tr>\n",
              "      <th>steve</th>\n",
              "      <td>10</td>\n",
              "    </tr>\n",
              "    <tr>\n",
              "      <th>alex</th>\n",
              "      <td>10</td>\n",
              "    </tr>\n",
              "    <tr>\n",
              "      <th>michael</th>\n",
              "      <td>9</td>\n",
              "    </tr>\n",
              "    <tr>\n",
              "      <th>david</th>\n",
              "      <td>9</td>\n",
              "    </tr>\n",
              "    <tr>\n",
              "      <th>jeff</th>\n",
              "      <td>9</td>\n",
              "    </tr>\n",
              "    <tr>\n",
              "      <th>joey</th>\n",
              "      <td>9</td>\n",
              "    </tr>\n",
              "  </tbody>\n",
              "</table>\n",
              "</div><br><label><b>dtype:</b> int64</label>"
            ]
          },
          "metadata": {},
          "execution_count": 25
        }
      ]
    },
    {
      "cell_type": "code",
      "source": [],
      "metadata": {
        "id": "fBz1IFm5ZlcJ"
      },
      "execution_count": null,
      "outputs": []
    },
    {
      "cell_type": "code",
      "source": [],
      "metadata": {
        "id": "-THKbP6jZX8j"
      },
      "execution_count": null,
      "outputs": []
    },
    {
      "cell_type": "code",
      "source": [],
      "metadata": {
        "id": "jBRA9JNqZEZ9"
      },
      "execution_count": null,
      "outputs": []
    }
  ],
  "metadata": {
    "colab": {
      "provenance": []
    },
    "kernelspec": {
      "display_name": "Python 3",
      "name": "python3"
    },
    "language_info": {
      "name": "python"
    }
  },
  "nbformat": 4,
  "nbformat_minor": 0
}